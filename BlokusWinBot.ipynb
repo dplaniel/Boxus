{
 "cells": [
  {
   "cell_type": "code",
   "execution_count": 79,
   "metadata": {
    "collapsed": false
   },
   "outputs": [],
   "source": [
    "import numpy as np\n",
    "import matplotlib.colors\n",
    "import matplotlib.pyplot as plt\n",
    "import scipy as sp\n",
    "from scipy import signal\n",
    "from scipy import ndimage\n",
    "%matplotlib inline"
   ]
  },
  {
   "cell_type": "code",
   "execution_count": 80,
   "metadata": {
    "collapsed": false
   },
   "outputs": [
    {
     "name": "stdout",
     "output_type": "stream",
     "text": [
      "2\n"
     ]
    }
   ],
   "source": [
    "#Global object used to create local blok representations within a players 'hand'\n",
    "\n",
    "\n",
    "x = np.array([[1,1]])\n",
    "print len(x.shape)#[0]"
   ]
  },
  {
   "cell_type": "code",
   "execution_count": 81,
   "metadata": {
    "collapsed": false
   },
   "outputs": [],
   "source": [
    "class Blok:\n",
    "    \n",
    "    _pieces = {\n",
    "    'L5' : [[1,1,1,1],[0,0,0,1]],\n",
    "    'Y'  : [[1,1,1,1],[0,1,0,0]],\n",
    "    'N'  : [[1,1,1,1],[0,0,1,1]],\n",
    "    'U'  : [[1,1],[1,0],[1,1]],\n",
    "    'V3' : [[1,0],[1,1]],\n",
    "    'V5' : [[1,0,0],[1,0,0],[1,1,1]],\n",
    "    'Z5' : [[1,1,0],[0,1,0],[0,1,1]],\n",
    "    'X'  : [[0,1,0],[1,1,1],[0,1,0]],\n",
    "    'T5' : [[1,1,1],[0,1,0],[0,1,0]],\n",
    "    'W'  : [[1,0,0],[1,1,0],[0,1,1]],\n",
    "    'P'  : [[1,1],[1,1],[1,0]],\n",
    "    'F'  : [[0,1,1],[1,1,0],[0,1,0]],\n",
    "    'O' : [[1,1],[1,1]],\n",
    "    'L4' : [[1,1,1],[0,0,1]],\n",
    "    'T4' : [[1,1,1],[0,1,0]],\n",
    "    'Z4' : [[1,1,0],[0,1,1]],\n",
    "    'I2' : [[1,1]],\n",
    "    'I3' : [[1,1,1]],\n",
    "    'I4' : [[1,1,1,1]],\n",
    "    'I5' : [[1,1,1,1,1]]\n",
    "    }\n",
    "    \n",
    "    def __init__(self, blockName):\n",
    "        self.name = blockName\n",
    "        self.kernel = np.array(Blok._pieces[blockName])\n",
    "        \n",
    "    def __cmp__(self, other):\n",
    "        #Magic method for comparison. Lets block class compare itself to Bloks and strings.\n",
    "        #Can define more specific comparisons, but since I'm lazy, blocks are ALWAYS less than \n",
    "        #other python objects not in (blok, string)\n",
    "        if type(other) is str:\n",
    "            if other == self.name:\n",
    "                return 0\n",
    "            else:\n",
    "                return -1\n",
    "        elif type(other) is Blok:\n",
    "            if other.name == self.name:\n",
    "                return 0\n",
    "            else:\n",
    "                return -1\n",
    "        else:\n",
    "            return -1\n",
    "            \n",
    "    def __str__(self):\n",
    "        return self.name\n",
    "    \n",
    "    def __repr__(self):\n",
    "        return self.name\n",
    "        #return self.name\n",
    "        \n",
    "    def show(self, verbose=False):\n",
    "        if verbose:\n",
    "            plt.figure(self.name)\n",
    "            colors = matplotlib.colors.ListedColormap(['gray','red','yellow','blue','green'])\n",
    "    #         if len(self.kernel.shape) > 1:\n",
    "            plt.pcolormesh(range(self.kernel.shape[1]+1),range(self.kernel.shape[0]+1),self.kernel,edgecolors='black',cmap=colors)\n",
    "    #         else:\n",
    "    #             plt.pcolormesh(range(2),range(self.kernel.shape[0]+1),self.kernel,edgecolors='black',cmap=colors)\n",
    "            print \"[\", self.name\n",
    "            plt.show()\n",
    "            print \"]\"\n",
    "            plt.clf()\n",
    "        else:\n",
    "            print \"[\", self.name, \"]\"\n",
    "\n",
    "    def rotate(self, iterate=1):\n",
    "        for i in range(iterate):\n",
    "            self.kernel = np.rot90(self.kernel)\n",
    "    \n",
    "    def flip(self):\n",
    "        self.kernel = np.transpose(self.kernel)"
   ]
  },
  {
   "cell_type": "code",
   "execution_count": 82,
   "metadata": {
    "collapsed": false
   },
   "outputs": [],
   "source": [
    "class Player:\n",
    "    def __init__(self, playerName, playerID):\n",
    "        self.name = playerName\n",
    "        self.pID = playerID\n",
    "        #On initalization, create a new list of blokx\n",
    "        self.pieceDict = self.generatePieces()\n",
    "        \n",
    "    def generatePieces(self):\n",
    "        #I'm so sorry... It's a dictionary of BlokName: BlokObject \n",
    "        retDict = {}\n",
    "        for piece in Blok._pieces.keys():\n",
    "            retDict[piece] = Blok(piece)\n",
    "            #retList.append(Blok(piece))\n",
    "        return retDict\n",
    "        \n",
    "    def playPiece(self, piece):\n",
    "        if piece in self.pieceDict:\n",
    "            retPiece = self.pieceDict.pop(piece, None)\n",
    "            return True, retPiece.kernel\n",
    "        else:\n",
    "            print(str(self.name) + ' has no piece \\'' + str(piece) + '\\'')\n",
    "            return False, None\n",
    "\n",
    "    def showHand(self, verbose=False):\n",
    "        for piece in self.pieceDict.values():\n",
    "            piece.show(verbose=verbose)\n",
    "    \n",
    "    #Huehuehue I love magic methods\n",
    "    def __len__(self):\n",
    "        return len(self.pieceDict.keys())\n",
    "    \n",
    "#     def __missing__(self, key):\n",
    "#         print \"Piece \", key, \" is not in \", self.name, \"'s hand.\"\n",
    "#         return False\n",
    "\n",
    "    def __getitem__(self, key):\n",
    "        # if key is of invalid type or value, the list values will raise the error\n",
    "        return self.pieceDict[key]\n",
    "\n",
    "    def __setitem__(self, key, value):\n",
    "        self.pieceDict[key] = value\n",
    "\n",
    "    def __delitem__(self, key):\n",
    "        del self.pieceDict[key]\n",
    "\n"
   ]
  },
  {
   "cell_type": "code",
   "execution_count": 83,
   "metadata": {
    "collapsed": false
   },
   "outputs": [
    {
     "name": "stdout",
     "output_type": "stream",
     "text": [
      "[ T5 ]\n",
      "[ Y ]\n",
      "[ F ]\n",
      "[ T4 ]\n",
      "[ I2 ]\n",
      "[ I5 ]\n",
      "[ I4 ]\n",
      "[ O ]\n",
      "[ N ]\n",
      "[ P ]\n",
      "[ L4 ]\n",
      "[ V3 ]\n",
      "[ U ]\n",
      "[ V5 ]\n",
      "[ W ]\n",
      "[ Z5 ]\n",
      "[ L5 ]\n",
      "[ X ]\n",
      "[ Z4 ]\n",
      "[ I3 ]\n",
      "None\n"
     ]
    }
   ],
   "source": [
    "##Testing Block, not production code\n",
    "daniel = Player('Daniel',1)\n",
    "print daniel.showHand()\n",
    "#daniel.playPiece('Z4')\n",
    "#print daniel.showHand(verbose=not True)\n",
    "#daniel.playPiece('foo')\n",
    "#print daniel.pieceDict['I5']\n",
    "#print daniel['I5']"
   ]
  },
  {
   "cell_type": "code",
   "execution_count": 104,
   "metadata": {
    "collapsed": false
   },
   "outputs": [],
   "source": [
    "class Board:\n",
    "    def __init__(self, **kwargs):\n",
    "        self.boardState = kwargs.get('BoardState', np.zeros((20,20)))\n",
    "        #self.boardState.index = ['a','b','c','d','e','f','g','h','i','j','k','l','m','n','o','p','q','r','s','t']\n",
    "\n",
    "    def checkLegality(self, player, piece, (x,y)):\n",
    "        kernel = Blok(piece).kernel\n",
    "        width, height = kernel.shape[0], kernel.shape[1]\n",
    "        #Check that the player is playing within the bounds of the board\n",
    "        if ((x+width>self.boardState.shape[0]) or (y+height>self.boardState.shape[1]))\\\n",
    "            or ((x<0) or (y<0)):\n",
    "                raise IndexError('There isn\\'t enough board for that harebrained bullshit.')\n",
    "        #Check that the player is not playing on top of another piece\n",
    "        if (np.amax(self.boardState[x:x+kernel.shape[0],y:y+kernel.shape[1]] + kernel) > 1):\n",
    "            raise ValueError('Two pieces may not overlap.')\n",
    "        #Check that the player is not playing against the edge of another of their pieces\n",
    "        padded = np.pad(kernel,1,'constant')\n",
    "        dilation = sp.ndimage.morphology.binary_dilation(padded).astype('int')\n",
    "        edgeMask = dilation - padded\n",
    "        boardSlice = np.pad(self.boardState,1,'constant')[x:x+width+2,y:y+height+2]\n",
    "        if(np.any(np.equal(boardSlice,player.pID*edgeMask)*edgeMask)):\n",
    "            raise ValueError('Two like-colored pieces cannot touch edges.')\n",
    "        #Check that the player is playing catercorner to another of their pieces\n",
    "        cornerKernel = [[0,1,0],[1,-4,1],[0,1,0]]\n",
    "        cornerMask = sp.signal.convolve2d(dilation, cornerKernel)[1:-1,1:-1].clip(min=0,max=1)\n",
    "        if(not np.any(np.equal(boardSlice,player.pID*cornerMask)*cornerMask)):\n",
    "            if not((x==0 and y==0)or(x==0 and y+height==20)\\\n",
    "                or(x+width==20 and y==0)or(x+width==20 and y+height==20)):\n",
    "                    raise ValueError('Pieces must touch at least one like-colored corner.')\n",
    "            \n",
    "        \n",
    "    def addPiece(self, player, piece, (x,y),check_legal=True):\n",
    "        #kernel = np.array(pieces[piece])*player.pID\n",
    "        if(check_legal): self.checkLegality(player, piece, (x,y))\n",
    "        hasPiece, kernel = player.playPiece(piece)\n",
    "        if hasPiece:\n",
    "            kernel = kernel * player.pID\n",
    "            #One is welcome to imagine an implementation that uses the Point class\n",
    "            #One is welcome to imagine many things\n",
    "            #One is the loneliest number\n",
    "            self.boardState[x:x+kernel.shape[0],y:y+kernel.shape[1]] = kernel\n",
    "        else:\n",
    "            print('Matt please teach me how to create exceptions in python')\n",
    "            \n",
    "    def printBoard(self):\n",
    "        colors = matplotlib.colors.ListedColormap(['gray','red','yellow','blue','green']) #working sort of kind of as intended\n",
    "        plt.figure(figsize=(10,10))\n",
    "        plt.pcolormesh(range(21),range(21),game1.boardState,edgecolors='black',cmap=colors)\n",
    "        labels = ['a','b','c','d','e','f','g','h','i','j','k','l','m','n','o','p','q','r','s','t']\n",
    "        plt.xticks(range(1,21),labels)\n",
    "        plt.yticks(range(1,21))\n",
    "        plt.show()\n",
    "            "
   ]
  },
  {
   "cell_type": "code",
   "execution_count": 110,
   "metadata": {
    "collapsed": false,
    "scrolled": false
   },
   "outputs": [
    {
     "data": {
      "image/png": "[encoded data removed]",
      "text/plain": [
       "<matplotlib.figure.Figure at 0xa00abe0>"
      ]
     },
     "metadata": {},
     "output_type": "display_data"
    }
   ],
   "source": [
    "##Testing block, not production code (lol, \"production,\" \"code\")\n",
    "daniel = Player('Daniel', 1)\n",
    "matt = Player('Matt', 2)\n",
    "anthony = Player('Anthony', 3)\n",
    "jay = Player('Jay Lee', 4)\n",
    "game1 = Board()\n",
    "\n",
    "daniel['F'].rotate()\n",
    "game1.addPiece(daniel, 'F', (0, 0))\n",
    "#print game1.boardState\n",
    "anthony['V5'].rotate()\n",
    "game1.addPiece(anthony, 'V5', (17, 0))\n",
    "\n",
    "# matt['F'].rotate()\n",
    "# matt['F'].flip()\n",
    "game1.addPiece(matt, 'F', (0, 17))\n",
    "\n",
    "jay['F'].flip()\n",
    "jay['F'].rotate()\n",
    "game1.addPiece(jay, 'F', (17, 17))\n",
    "game1.addPiece(jay, 'I5', (19,12), check_legal=True)\n",
    "#game1.addPiece(matt, 'O', (5,6))\n",
    "\n",
    "game1.printBoard()\n"
   ]
  },
  {
   "cell_type": "markdown",
   "metadata": {},
   "source": [
    "???? fuck it for now"
   ]
  },
  {
   "cell_type": "code",
   "execution_count": null,
   "metadata": {
    "collapsed": true
   },
   "outputs": [],
   "source": []
  },
  {
   "cell_type": "code",
   "execution_count": null,
   "metadata": {
    "collapsed": true
   },
   "outputs": [],
   "source": []
  },
  {
   "cell_type": "code",
   "execution_count": null,
   "metadata": {
    "collapsed": true
   },
   "outputs": [],
   "source": []
  },
  {
   "cell_type": "code",
   "execution_count": null,
   "metadata": {
    "collapsed": true
   },
   "outputs": [],
   "source": []
  },
  {
   "cell_type": "code",
   "execution_count": null,
   "metadata": {
    "collapsed": true
   },
   "outputs": [],
   "source": []
  },
  {
   "cell_type": "code",
   "execution_count": null,
   "metadata": {
    "collapsed": true
   },
   "outputs": [],
   "source": []
  },
  {
   "cell_type": "code",
   "execution_count": null,
   "metadata": {
    "collapsed": true
   },
   "outputs": [],
   "source": []
  }
 ],
 "metadata": {
  "anaconda-cloud": {},
  "kernelspec": {
   "display_name": "Python [Root]",
   "language": "python",
   "name": "Python [Root]"
  },
  "language_info": {
   "codemirror_mode": {
    "name": "ipython",
    "version": 2
   },
   "file_extension": ".py",
   "mimetype": "text/x-python",
   "name": "python",
   "nbconvert_exporter": "python",
   "pygments_lexer": "ipython2",
   "version": "2.7.12"
  }
 },
 "nbformat": 4,
 "nbformat_minor": 0
}
