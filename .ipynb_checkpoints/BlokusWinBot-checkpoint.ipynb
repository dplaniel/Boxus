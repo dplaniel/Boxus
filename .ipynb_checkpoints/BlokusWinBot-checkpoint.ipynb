{
 "cells": [
  {
   "cell_type": "code",
   "execution_count": 1,
   "metadata": {
    "collapsed": false
   },
   "outputs": [],
   "source": [
    "import numpy as np\n",
    "import matplotlib.colors\n",
    "import matplotlib.pyplot as plt\n",
    "import time\n",
    "import sys\n",
    "from IPython import display\n",
    "import scipy as sp\n",
    "from scipy import signal\n",
    "from scipy import ndimage\n",
    "%matplotlib inline"
   ]
  },
  {
   "cell_type": "code",
   "execution_count": 2,
   "metadata": {
    "collapsed": false
   },
   "outputs": [],
   "source": [
    "class Blok:\n",
    "    \n",
    "    _pieces = {\n",
    "    'L5' : [[1,1,1,1],[0,0,0,1]],\n",
    "    'Y'  : [[1,1,1,1],[0,1,0,0]],\n",
    "    'N'  : [[0,1,1,1],[1,1,0,0]],\n",
    "    'U'  : [[1,1],[1,0],[1,1]],\n",
    "    'V3' : [[1,0],[1,1]],\n",
    "    'V5' : [[1,0,0],[1,0,0],[1,1,1]],\n",
    "    'Z5' : [[1,1,0],[0,1,0],[0,1,1]],\n",
    "    'X'  : [[0,1,0],[1,1,1],[0,1,0]],\n",
    "    'T5' : [[1,1,1],[0,1,0],[0,1,0]],\n",
    "    'W'  : [[1,0,0],[1,1,0],[0,1,1]],\n",
    "    'P'  : [[1,1],[1,1],[1,0]],\n",
    "    'F'  : [[0,1,1],[1,1,0],[0,1,0]],\n",
    "    'O'  : [[1,1],[1,1]],\n",
    "    'L4' : [[1,1,1],[0,0,1]],\n",
    "    'T4' : [[1,1,1],[0,1,0]],\n",
    "    'Z4' : [[1,1,0],[0,1,1]],\n",
    "    'I2' : [[1,1]],\n",
    "    'I3' : [[1,1,1]],\n",
    "    'I4' : [[1,1,1,1]],\n",
    "    'I5' : [[1,1,1,1,1]],\n",
    "    '1'  : [[1]]\n",
    "    }\n",
    "    \n",
    "    def __init__(self, blockName):\n",
    "        self.name = blockName\n",
    "        self.kernel = np.array(Blok._pieces[blockName])\n",
    "        self.weight = np.sum(self.kernel)\n",
    "        self.rot = 0\n",
    "        \n",
    "    def __cmp__(self, other): #What is this for?\n",
    "        '''\n",
    "        Magic method for comparison. Lets block class compare itself to Bloks and strings.\n",
    "        Can define more specific comparisons, but since I'm lazy, blocks are ALWAYS less than \n",
    "        other python objects not in (blok, string)\n",
    "        '''\n",
    "        if type(other) is str:\n",
    "            if other == self.name:\n",
    "                return 0\n",
    "            else:\n",
    "                return -1\n",
    "        elif type(other) is Blok:\n",
    "            if other.name == self.name:\n",
    "                return 0\n",
    "            else:\n",
    "                return -1\n",
    "        else:\n",
    "            return -1\n",
    "            \n",
    "    def __str__(self):\n",
    "        return self.name\n",
    "    \n",
    "    def __repr__(self):  #What is this for?\n",
    "        return self.name\n",
    "        #return self.name\n",
    "        \n",
    "    def show(self, verbose=False):\n",
    "        if verbose:\n",
    "            plt.figure(self.name)\n",
    "            colors = matplotlib.colors.ListedColormap(['gray','red','yellow','blue','green'])\n",
    "    #         if len(self.kernel.shape) > 1:\n",
    "            plt.pcolormesh(range(self.kernel.shape[1]+1),range(self.kernel.shape[0]+1),self.kernel,edgecolors='black',cmap=colors)\n",
    "    #         else:\n",
    "    #             plt.pcolormesh(range(2),range(self.kernel.shape[0]+1),self.kernel,edgecolors='black',cmap=colors)\n",
    "            print \"[\", self.name\n",
    "            plt.show()\n",
    "            print \"]\"\n",
    "            plt.clf()\n",
    "        else:\n",
    "            print \"[\", self.name, \"]\"\n",
    "\n",
    "    def rotate(self, iterate=1):\n",
    "        for i in range(iterate):\n",
    "            self.kernel = np.rot90(self.kernel)\n",
    "            self.rot +=1\n",
    "        self.rot %= 4\n",
    "    \n",
    "    def flip(self):\n",
    "        self.kernel = np.transpose(self.kernel)"
   ]
  },
  {
   "cell_type": "code",
   "execution_count": 3,
   "metadata": {
    "collapsed": false
   },
   "outputs": [],
   "source": [
    "class Player:\n",
    "    def __init__(self, playerName, playerID):\n",
    "        self.name = playerName\n",
    "        self.pID = playerID\n",
    "        #On initalization, create a new list of blokx\n",
    "        self.pieceDict = self.generatePieces()\n",
    "        if self.pID==1:\n",
    "            self.candidates = [(0,0)]\n",
    "        elif self.pID==2:\n",
    "            self.candidates = [(15,0),(16,0),(17,0),(18,0),(19,0)]\n",
    "        elif self.pID==3:\n",
    "            self.candidates = [(19,15),(19,16),(19,17),(19,18),(19,19),\n",
    "                               (18,16),(18,17),(18,18),(18,19),\n",
    "                               (17,17),(17,18),(17,19),\n",
    "                               (16,18),(16,19),\n",
    "                               (15,19),]\n",
    "        elif self.pID==4:\n",
    "            self.candidates = [(0,15),(0,16),(0,17),(0,18),(0,19)]\n",
    "        else:\n",
    "            raise ValueError('pID must be from (1,2,3,4)')\n",
    "                \n",
    "            \n",
    "        self.last = None\n",
    "        \n",
    "    def generatePieces(self):\n",
    "        #I'm so sorry... It's a dictionary of BlokName: BlokObject\n",
    "        retDict = {}\n",
    "        for piece in Blok._pieces.keys():\n",
    "            retDict[piece] = Blok(piece)\n",
    "            #retList.append(Blok(piece))\n",
    "        return retDict\n",
    "        \n",
    "    def playPiece(self, piece):\n",
    "        if piece in self.pieceDict:\n",
    "            retPiece = self.pieceDict.pop(piece, None)\n",
    "            self.last = retPiece.name\n",
    "            return True, retPiece.kernel\n",
    "        else:\n",
    "            print(str(self.name) + ' has no piece \\'' + str(piece) + '\\'')\n",
    "            return False, None\n",
    "\n",
    "    def showHand(self, verbose=False):\n",
    "        for piece in self.pieceDict.values():\n",
    "            piece.show(verbose=verbose)\n",
    "    \n",
    "    def score(self):\n",
    "        if (len(self.pieceDict.keys())==0):\n",
    "            if (self.last=='1'):\n",
    "                return -20 # Masterful!\n",
    "            else:\n",
    "                return -15 # Good job!\n",
    "        else: \n",
    "            # Better luck next time!\n",
    "            return np.sum([np.sum(x.kernel) for x in self.pieceDict.values()]) \n",
    "        \n",
    "    #Huehuehue I love magic methods\n",
    "    def __len__(self):\n",
    "        return len(self.pieceDict.keys())\n",
    "    \n",
    "#     def __missing__(self, key):\n",
    "#         print \"Piece \", key, \" is not in \", self.name, \"'s hand.\"\n",
    "#         return False\n",
    "\n",
    "    def __getitem__(self, key):\n",
    "        # if key is of invalid type or value, the list values will raise the error\n",
    "        return self.pieceDict[key]\n",
    "\n",
    "    def __setitem__(self, key, value):\n",
    "        self.pieceDict[key] = value\n",
    "\n",
    "    def __delitem__(self, key):\n",
    "        del self.pieceDict[key]\n",
    "\n"
   ]
  },
  {
   "cell_type": "code",
   "execution_count": 4,
   "metadata": {
    "collapsed": false
   },
   "outputs": [
    {
     "name": "stdout",
     "output_type": "stream",
     "text": [
      "[ T5 ]\n",
      "[ Y ]\n",
      "[ F ]\n",
      "[ T4 ]\n",
      "[ I2 ]\n",
      "[ I5 ]\n",
      "[ I4 ]\n",
      "[ O ]\n",
      "[ N ]\n",
      "[ 1 ]\n",
      "[ P ]\n",
      "[ L4 ]\n",
      "[ V3 ]\n",
      "[ U ]\n",
      "[ V5 ]\n",
      "[ W ]\n",
      "[ Z5 ]\n",
      "[ L5 ]\n",
      "[ X ]\n",
      "[ Z4 ]\n",
      "[ I3 ]\n",
      "None\n",
      "89\n",
      "None\n"
     ]
    }
   ],
   "source": [
    "##Testing Block, not production code\n",
    "daniel = Player('Daniel',1)\n",
    "print daniel.showHand()\n",
    "print daniel.score()\n",
    "print daniel.last\n",
    "#daniel.playPiece('Z4')\n",
    "#print daniel.showHand(verbose=not True)\n",
    "#daniel.playPiece('foo')\n",
    "#print daniel.pieceDict['I5']\n",
    "#print daniel['I5']"
   ]
  },
  {
   "cell_type": "code",
   "execution_count": 5,
   "metadata": {
    "collapsed": false
   },
   "outputs": [],
   "source": [
    "class Board:\n",
    "    def __init__(self, **kwargs):\n",
    "        self.boardState = kwargs.get('BoardState', np.zeros((20,20)))\n",
    "        #self.boardState.index = ['a','b','c','d','e','f','g','h','i','j','k','l','m','n','o','p','q','r','s','t']\n",
    "\n",
    "    def checkLegality(self, player, piece, (x,y)):\n",
    "        '''Where the magic happens'''\n",
    "        kernel = piece.kernel\n",
    "        width, height = kernel.shape[0], kernel.shape[1]\n",
    "        #Check that the player is playing within the bounds of the board\n",
    "        if ((x+width>self.boardState.shape[0]) or (y+height>self.boardState.shape[1]))\\\n",
    "            or ((x<0) or (y<0)):\n",
    "                raise IndexError('There isn\\'t enough board for that harebrained bullshit.')\n",
    "        #Check that the player is not playing on top of another piece\n",
    "        if (np.amax(self.boardState[x:x+width,y:y+height] + kernel) > 1):\n",
    "            raise ValueError('Two pieces may not overlap.')\n",
    "        #Check that the player is not playing against the edge of another of their pieces\n",
    "        padded = np.pad(kernel,1,'constant')\n",
    "        dilation = sp.ndimage.morphology.binary_dilation(padded).astype('int')\n",
    "        edgeMask = dilation - padded\n",
    "        boardSlice = np.pad(self.boardState,1,'constant')[x:x+width+2,y:y+height+2] ########\n",
    "        if(x,y)==(0,0): boardSlice[0,0] = player.pID\n",
    "        if(x+width,y)==(20,0): boardSlice[-1,0] = player.pID\n",
    "        if(x,y+height)==(0,20): boardSlice[0,-1] = player.pID\n",
    "        if(x+width,y+height)==(20,20): boardSlice[-1,-1] = player.pID    \n",
    "        if(np.any(np.equal(boardSlice,player.pID*edgeMask)*edgeMask)):\n",
    "            raise ValueError('Two like-colored pieces cannot touch edges.')\n",
    "        #Check that the player is playing catercorner to another of their pieces\n",
    "        cornerKernel = [[0,1,0],[1,-4,1],[0,1,0]]\n",
    "        cornerMask = sp.signal.convolve2d(dilation, cornerKernel)[1:-1,1:-1].clip(min=0,max=1)\n",
    "        if(not np.any(np.equal(boardSlice,player.pID*cornerMask)*cornerMask)):\n",
    "            raise ValueError('You must play catercorner to another piece of your color.')\n",
    "        tgts =  np.array(np.argwhere(cornerMask) + (x-1,y-1))\n",
    "        tgts = tgts[tgts[:,0]>=0]\n",
    "        return tgts[tgts[:,1]>=0]\n",
    "\n",
    "            \n",
    "        \n",
    "    def addPiece(self, player, piece, (x,y),check_legal=True):\n",
    "        #kernel = np.array(pieces[piece])*player.pID\n",
    "        if(check_legal): #This isn't really our desired behavior, but it's a step.  We have vision of the present.\n",
    "            try: player.candidates = self.checkLegality(player, player[piece], (x,y))\n",
    "            except (IndexError, ValueError) as e: print('ERROR: {}'.format(e)); return -1\n",
    "        hasPiece, kernel = player.playPiece(piece)\n",
    "        if hasPiece:\n",
    "            kernel = kernel * player.pID\n",
    "            #One is welcome to imagine an implementation that uses the Point class\n",
    "            #One is welcome to imagine many things\n",
    "            #One is the loneliest number\n",
    "            self.boardState[x:x+kernel.shape[0],y:y+kernel.shape[1]] = kernel\n",
    "        else:\n",
    "            print('Matt please teach me how to create exceptions in python')\n",
    "            \n",
    "    def printBoard(self):\n",
    "        colors = matplotlib.colors.ListedColormap(['gray','blue','yellow','red','green']) #working sort of kind of as intended\n",
    "        plt.figure(figsize=(10,10))\n",
    "        plt.pcolormesh(range(21),range(21),game1.boardState,edgecolors='black',cmap=colors)\n",
    "        labels = ['a0','b1','c2','d3','e4','f5','g6','h7','i8','j9','k10','l11','m12','n13','o14','p15','q16','r17','s18','t19']\n",
    "        plt.xticks(range(0,20),labels)\n",
    "        plt.yticks(range(0,20))\n",
    "        plt.show()\n",
    "            "
   ]
  },
  {
   "cell_type": "code",
   "execution_count": 6,
   "metadata": {
    "collapsed": false
   },
   "outputs": [],
   "source": [
    "def hypothesize(player, board):\n",
    "    ##Still debugging this bad boy.  Hopefully the issues are not in checkLegality\n",
    "    valid_moves = []\n",
    "    for piece in player.pieceDict:\n",
    "        for space in player.candidates:\n",
    "            for turn in range(4):\n",
    "                #print(piece,str(player[piece].rot*90)+'dg',space)\n",
    "                try:\n",
    "                    _ = board.checkLegality(player, player[piece], space)\n",
    "                    #print(piece,str(rot*90)+'deg',space,'legal')\n",
    "                    #print('legal')\n",
    "                    valid_moves.append((player,piece,player[piece].rot,space))\n",
    "                except (IndexError, ValueError) as e: pass# print('ERROR: {}'.format(e));\n",
    "                player[piece].rotate()\n",
    "    return valid_moves\n",
    "                \n",
    "            "
   ]
  },
  {
   "cell_type": "code",
   "execution_count": 7,
   "metadata": {
    "collapsed": false,
    "scrolled": false
   },
   "outputs": [
    {
     "data": {
      "image/png": "[encoded data removed]",
      "text/plain": [
       "<matplotlib.figure.Figure at 0x7939f28>"
      ]
     },
     "metadata": {},
     "output_type": "display_data"
    },
    {
     "name": "stdout",
     "output_type": "stream",
     "text": [
      "47\n",
      "[ T5 ]\n",
      "[ I2 ]\n",
      "[ I4 ]\n",
      "[ O ]\n",
      "[ N ]\n",
      "[ P ]\n",
      "[ W ]\n",
      "[ L5 ]\n",
      "[ X ]\n",
      "[ Z4 ]\n",
      "[ I3 ]\n"
     ]
    }
   ],
   "source": [
    "##Testing block, not production code (lol, \"production,\" \"code\")\n",
    "daniel = Player('Daniel', 1)\n",
    "matt = Player('Matt', 2)\n",
    "anthony = Player('Anthony', 3)\n",
    "jay = Player('Jay Lee', 4)\n",
    "game1 = Board()\n",
    "\n",
    "moves = hypothesize(daniel, game1)\n",
    "while len(moves)>0:\n",
    "    (plr, pce, rot, spc) = moves[np.random.randint(len(moves))]\n",
    "    plr[pce].rotate((rot-plr[pce].rot)%4)\n",
    "    game1.addPiece(plr,pce,spc)\n",
    "    moves = hypothesize(daniel, game1)\n",
    "#daniel['F'].rotate()\n",
    "#game1.addPiece(daniel,'F',(0,0))\n",
    "#game1.addPiece(daniel,'O',(2,3))\n",
    "#print(daniel.candidates)\n",
    "#game1.addPiece(daniel,'V3',(5,1))\n",
    "\n",
    "\n",
    "game1.printBoard()\n",
    "print(daniel.score())\n",
    "daniel.showHand()\n",
    "#plt.pcolormesh(range(21),range(21),game1.boardState+daniel.candidates,edgecolors='black',cmap=colors)\n"
   ]
  },
  {
   "cell_type": "markdown",
   "metadata": {},
   "source": [
    "???? fuck it for now"
   ]
  },
  {
   "cell_type": "code",
   "execution_count": 8,
   "metadata": {
    "collapsed": false
   },
   "outputs": [
    {
     "data": {
      "text/plain": [
       "[]"
      ]
     },
     "execution_count": 8,
     "metadata": {},
     "output_type": "execute_result"
    }
   ],
   "source": [
    "moves"
   ]
  },
  {
   "cell_type": "code",
   "execution_count": 9,
   "metadata": {
    "collapsed": false
   },
   "outputs": [
    {
     "data": {
      "text/plain": [
       "3"
      ]
     },
     "execution_count": 9,
     "metadata": {},
     "output_type": "execute_result"
    }
   ],
   "source": [
    "-1%4"
   ]
  },
  {
   "cell_type": "code",
   "execution_count": null,
   "metadata": {
    "collapsed": true
   },
   "outputs": [],
   "source": []
  }
 ],
 "metadata": {
  "anaconda-cloud": {},
  "kernelspec": {
   "display_name": "Python [Root]",
   "language": "python",
   "name": "Python [Root]"
  },
  "language_info": {
   "codemirror_mode": {
    "name": "ipython",
    "version": 2
   },
   "file_extension": ".py",
   "mimetype": "text/x-python",
   "name": "python",
   "nbconvert_exporter": "python",
   "pygments_lexer": "ipython2",
   "version": "2.7.12"
  }
 },
 "nbformat": 4,
 "nbformat_minor": 0
}
