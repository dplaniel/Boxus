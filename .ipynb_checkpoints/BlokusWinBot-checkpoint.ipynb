{
 "cells": [
  {
   "cell_type": "code",
   "execution_count": 9,
   "metadata": {
    "collapsed": false
   },
   "outputs": [],
   "source": [
    "import numpy as np\n",
    "import pandas as pd\n",
    "import webbrowser\n",
    "import matplotlib.colors\n",
    "import matplotlib.pyplot as plt\n",
    "%matplotlib inline"
   ]
  },
  {
   "cell_type": "code",
   "execution_count": 10,
   "metadata": {
    "collapsed": true
   },
   "outputs": [],
   "source": [
    "pieces = {\n",
    "    'L5' : [[1,1,1,1],[0,0,0,1]],\n",
    "    'Y' : [[1,1,1,1],[0,1,0,0]],\n",
    "    'N' : [[1,1,1,1],[0,0,1,1]],\n",
    "    'U' : [[1,1],[1,0],[1,1]],\n",
    "    'V3' : [[1,0],[1,1]],\n",
    "    'V5' : [[1,0,0],[1,0,0],[1,1,1]],\n",
    "    'Z5' : [[1,1,0],[0,1,0],[0,1,1]],\n",
    "    'X' : [[0,1,0],[1,1,1],[0,1,0]],\n",
    "    'T5' : [[1,1,1],[0,1,0],[0,1,0]],\n",
    "    'W' : [[1,0,0],[1,1,0],[0,1,1]],\n",
    "    'P' : [[1,1],[1,1],[1,0]],\n",
    "    'F' : [[0,1,1],[1,1,0],[0,1,0]],\n",
    "    'O4': [[1,1],[1,1]],\n",
    "    'L4' : [[1,1,1],[0,0,1]],\n",
    "    'T4' : [[1,1,1],[0,1,0]],\n",
    "    'Z4' : [[1,1,0],[0,1,1]],\n",
    "    'I2' : [1,1],\n",
    "    'I3' : [1,1,1],\n",
    "    'I4' : [1,1,1,1],\n",
    "    'I5' : [1,1,1,1,1]\n",
    "    }"
   ]
  },
  {
   "cell_type": "code",
   "execution_count": 11,
   "metadata": {
    "collapsed": false
   },
   "outputs": [],
   "source": [
    "class Blok:\n",
    "    def __init__(self, blockName):\n",
    "        self.name = blockName\n",
    "        self.map = pieces[blockName]\n",
    "\n",
    "    def rotate(self):\n",
    "        return('You still need to make this, you incompetent fuckwits')\n",
    "        #TODO: use brain for literally one instant of my adult life\n",
    "    \n",
    "    def flip(self):\n",
    "        self.map = np.transpose(self.map)"
   ]
  },
  {
   "cell_type": "code",
   "execution_count": 12,
   "metadata": {
    "collapsed": true
   },
   "outputs": [],
   "source": [
    "class Point:    \n",
    "    def __init__(self, x, y):\n",
    "        self.x = _x\n",
    "        self.y = _y"
   ]
  },
  {
   "cell_type": "code",
   "execution_count": 13,
   "metadata": {
    "collapsed": false
   },
   "outputs": [],
   "source": [
    "class Player:\n",
    "\n",
    "    \n",
    "    def __init__(self, playerName, playerID):\n",
    "        self.name = playerName\n",
    "        self.pID = playerID/4.0\n",
    "        self.pieceList = pieces.keys()\n",
    "        \n",
    "    def playPiece(self, piece):\n",
    "        if piece in self.pieceList:\n",
    "            self.pieceList.remove(piece)\n",
    "            return True\n",
    "        else:\n",
    "            print(str(self.name) + ' has no piece \\'' + str(piece) + '\\'')\n",
    "            return False\n",
    "\n",
    "    def showHand(self):\n",
    "        return self.pieceList"
   ]
  },
  {
   "cell_type": "code",
   "execution_count": 14,
   "metadata": {
    "collapsed": false
   },
   "outputs": [
    {
     "name": "stdout",
     "output_type": "stream",
     "text": [
      "['Z4', 'I2', 'F', 'T4', 'T5', 'I5', 'V3', 'N', 'P', 'L4', 'L5', 'U', 'V5', 'W', 'X', 'Y', 'Z5', 'O4', 'I3', 'I4']\n",
      "['I2', 'F', 'T4', 'T5', 'I5', 'V3', 'N', 'P', 'L4', 'L5', 'U', 'V5', 'W', 'X', 'Y', 'Z5', 'O4', 'I3', 'I4']\n",
      "Daniel has no piece 'foo'\n"
     ]
    },
    {
     "data": {
      "text/plain": [
       "False"
      ]
     },
     "execution_count": 14,
     "metadata": {},
     "output_type": "execute_result"
    }
   ],
   "source": [
    "##Testing Block, not production code\n",
    "daniel = Player('Daniel',1)\n",
    "print daniel.showHand()\n",
    "daniel.playPiece('Z4')\n",
    "print daniel.showHand()\n",
    "daniel.playPiece('foo')"
   ]
  },
  {
   "cell_type": "code",
   "execution_count": 15,
   "metadata": {
    "collapsed": false
   },
   "outputs": [],
   "source": [
    "class Board:\n",
    "    def __init__(self, **kwargs):\n",
    "        self.boardState = kwargs.get('BoardState', pd.DataFrame(np.zeros((20,20))))\n",
    "        self.boardState.index = ['a','b','c','d','e','f','g','h','i','j','k','l','m','n','o','p','q','r','s','t']\n",
    "\n",
    "    def addPiece(self, player, piece, (x,y)):\n",
    "        kernel = np.array(pieces[piece])*player.pID\n",
    "        if player.playPiece(piece):\n",
    "            #One is welcome to imagine an implementation that uses the Point class\n",
    "            #One is welcome to imagine many things\n",
    "            self.boardState.iloc[x:x+kernel.shape[0],y:y+kernel.shape[1]] = kernel\n",
    "        else:\n",
    "            print('Matt please teach me how to create exceptions in python')\n",
    "            "
   ]
  },
  {
   "cell_type": "code",
   "execution_count": 16,
   "metadata": {
    "collapsed": false
   },
   "outputs": [],
   "source": [
    "class Matt:\n",
    "    def __init__(self):\n",
    "        self.IsGoodLad = False\n",
    "        self.WorksRealHard = False\n",
    "    def writeSomeCode(self):\n",
    "        webbrowser.open('https://www.youtube.com/watch?v=dJgKGwOjYLs', new=0, autoraise=True)\n",
    "    "
   ]
  },
  {
   "cell_type": "code",
   "execution_count": 17,
   "metadata": {
    "collapsed": true
   },
   "outputs": [],
   "source": [
    "Kerner = Matt()\n",
    "Kerner.writeSomeCode()"
   ]
  },
  {
   "cell_type": "code",
   "execution_count": 18,
   "metadata": {
    "collapsed": false,
    "scrolled": false
   },
   "outputs": [
    {
     "data": {
      "image/png": "[encoded data removed]",
      "text/plain": [
       "<matplotlib.figure.Figure at 0x7ccb198>"
      ]
     },
     "metadata": {},
     "output_type": "display_data"
    }
   ],
   "source": [
    "##Testing block, not production code (lol, \"production,\" \"code\")\n",
    "daniel = Player('Daniel',1)\n",
    "game1 = Board()\n",
    "game1.addPiece(daniel, 'F', (1,1))\n",
    "#print game1.boardState\n",
    "game1.addPiece(daniel, 'V5', (7,2))\n",
    "\n",
    "colors = matplotlib.colors.ListedColormap(['gray','red','yellow','blue','green']) #working sort of kind of as intended\n",
    "\n",
    "plt.figure(figsize=(10,10))\n",
    "plt.pcolormesh(range(21),range(21),game1.boardState,edgecolors='black',cmap=colors)\n",
    "labels = ['a','b','c','d','e','f','g','h','i','j','k','l','m','n','o','p','q','r','s','t']\n",
    "plt.xticks(range(1,21),labels)\n",
    "plt.yticks(range(1,21))\n",
    "plt.show()\n"
   ]
  },
  {
   "cell_type": "markdown",
   "metadata": {},
   "source": [
    "???? fuck it for now"
   ]
  }
 ],
 "metadata": {
  "anaconda-cloud": {},
  "kernelspec": {
   "display_name": "Python [Root]",
   "language": "python",
   "name": "Python [Root]"
  },
  "language_info": {
   "codemirror_mode": {
    "name": "ipython",
    "version": 2
   },
   "file_extension": ".py",
   "mimetype": "text/x-python",
   "name": "python",
   "nbconvert_exporter": "python",
   "pygments_lexer": "ipython2",
   "version": "2.7.12"
  }
 },
 "nbformat": 4,
 "nbformat_minor": 0
}
